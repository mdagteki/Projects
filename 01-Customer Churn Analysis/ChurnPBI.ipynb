{
 "cells": [
  {
   "cell_type": "markdown",
   "metadata": {},
   "source": [
    "Now we can see our new table in our Churn_LH Lakehouse.\n",
    "\n",
    "![Churn21.png](images/Churn21.png)"
   ]
  },
  {
   "cell_type": "markdown",
   "metadata": {},
   "source": [
    "## Creating and Saving Our Sematic Model"
   ]
  },
  {
   "cell_type": "markdown",
   "metadata": {},
   "source": [
    "Now we will Create a new semantic model named Chur_Data. In this model we are going to have two tables, Databel__Data and Predicted_Data. These tables are going to have a one to one relationship on Customer_ID column.\n",
    "\n",
    "![Churn17.png](images/Churn17.png)\n",
    "\n",
    "![Churn18.png](images/Churn18.png)\n",
    "\n",
    "Now we have following items in our Churn_WS Workspace:\n",
    "\n",
    "![Churn22.png](images/Churn22.png)"
   ]
  },
  {
   "cell_type": "markdown",
   "metadata": {},
   "source": [
    "When we check our model run metrics we see that our model has a 80% training accuracy score.\n",
    "\n",
    "![Churn23.png](images/Churn23.png)"
   ]
  },
  {
   "cell_type": "markdown",
   "metadata": {},
   "source": [
    "## Analyzing our model in Power BI Desktop"
   ]
  },
  {
   "cell_type": "markdown",
   "metadata": {},
   "source": [
    "To be able to start analyzing first we have to load our semantic model into Power BI Desktop. \n",
    "From Get Data link we are going to choose Power BI semantic models\n",
    "\n",
    "![Churn15.png](images/Churn15.png)\n",
    "\n",
    "Then we will choose our semantic model Churn_Data\n",
    "\n",
    "![Churn16.png](images/Churn16.png)\n",
    "\n",
    "When we open our model tab we can see our model with its relation established.\n",
    "\n",
    "![Churn24.png](images/Churn24.png)"
   ]
  }
 ],
 "metadata": {
  "language_info": {
   "name": "python"
  }
 },
 "nbformat": 4,
 "nbformat_minor": 2
}
