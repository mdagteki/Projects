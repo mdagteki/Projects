{
 "cells": [
  {
   "cell_type": "code",
   "execution_count": 2,
   "metadata": {},
   "outputs": [],
   "source": [
    "import pandas as pd \n",
    "import numpy as np \n",
    "from sklearn.model_selection import train_test_split \n",
    "from sklearn.linear_model import LogisticRegression \n",
    "from sklearn.preprocessing import LabelEncoder, StandardScaler\n",
    "\n",
    "dataset = pd.read_csv(\"C:\\DatabelData.csv\")\n",
    "\n",
    "le = LabelEncoder()\n",
    "dataset['Churn Label'] = le.fit_transform(dataset['Churn Label'])\n",
    "dataset['Unlimited Data Plan'] = le.fit_transform(dataset['Unlimited Data Plan'])\n",
    "dataset['Gender'] = le.fit_transform(dataset['Gender'])\n",
    "dataset['Contract Type'] = le.fit_transform(dataset['Contract Type'])\n",
    "\n",
    "y = dataset['Churn Label']\n",
    "features = ['Account Length (in months)','Unlimited Data Plan','Gender', 'Age','Contract Type','Monthly Charge','Total Charges']\n",
    "X = dataset[features]\n",
    "s = StandardScaler()\n",
    "X = s.fit_transform(X)\n",
    "X_train, X_test, y_train, y_test = train_test_split(X, y)\n",
    "\n",
    "log = LogisticRegression()\n",
    "log.fit(X_train, y_train)\n",
    "y_pred = log.predict(X)\n",
    "y_prob = log.predict_proba(X)[:,1]\n",
    "dataset['perdictions'] = y_pred\n",
    "dataset['probability'] = y_prob"
   ]
  },
  {
   "cell_type": "code",
   "execution_count": 4,
   "metadata": {},
   "outputs": [
    {
     "data": {
      "text/plain": [
       "Customer ID  Churn Label  Account Length (in months)  Local Calls  Local Mins  Intl Calls  Intl Mins   Intl Active  Intl Plan  Extra International Charges  Customer Service Calls  Avg Monthly GB Download  Unlimited Data Plan  Extra Data Charges  State  Phone Number  Gender  Age  Under 30  Senior  Group  Number of Customers in Group  Device Protection & Online Backup  Contract Type  Payment Method  Monthly Charge  Total Charges  Churn Category   Churn Reason                              perdictions  probability\n",
       "0000-XZWZ    1            1                           2            4.0         4.000       12.100000   Yes          no         4.0                          0                       7                        1                    0                   DC     340-9941      1       50   No        No      Yes    4                             No                                 0              Credit Card     16              16             Dissatisfaction  Service dissatisfaction                   0            0.432545       1\n",
       "6563-YQWO    1            3                           10           25.9        27.783      85.432725   Yes          no         15.2                         2                       3                        1                    0                   OR     422-5874      1       82   No        Yes     No     0                             No                                 0              Direct Debit    49              141            Competitor       Competitor made better offer              1            0.826188       1\n",
       "6615-ZYUQ    1            39                          184          630.1       0.000       0.000000    No           no         0.0                          0                       9                        1                    0                   CO     419-7415      0       65   No        Yes     No     0                             No                                 0              Credit Card     35              1372           Attitude         Attitude of support person                0            0.429557       1\n",
       "6614-NAJG    1            3                           6            15.4        0.000       0.000000    No           no         0.0                          2                       5                        1                    0                   MN     346-8275      0       45   No        No      Yes    5                             No                                 0              Credit Card     15              46             Attitude         Attitude of support person                0            0.404903       1\n",
       "6608-GMUC    1            1                           3            5.0         0.000       0.000000    No           no         13.9                         5                       3                        1                    0                   TX     414-4803      0       58   No        No      No     0                             No                                 0              Credit Card     46              46             Competitor       Competitor had better devices             1            0.763063       1\n",
       "                                                                                                                                                                                                                                                                                                                                                                                                                                                                                                                                      ..\n",
       "3191-TYOU    1            4                           10           33.8        0.000       0.000000    No           no         0.0                          3                       10                       0                    5                   OR     375-9180      0       61   No        No      No     0                             No                                 0              Direct Debit    46              172            Competitor       Competitor had better devices             1            0.707841       1\n",
       "3185-TLJL    1            32                          70           259.2       0.000       0.000000    No           yes        0.0                          1                       1                        1                    0                   IL     295-4007      1       83   No        Yes     No     0                             Yes                                0              Credit Card     29              925            Competitor       Competitor made better offer              0            0.466156       1\n",
       "3184-FDDV    1            2                           11           26.2        0.000       0.000000    No           no         0.0                          2                       10                       0                    5                   CT     317-7803      1       27   Yes       No      No     0                             No                                 0              Direct Debit    25              44             Attitude         Attitude of service provider              0            0.362791       1\n",
       "3182-LTNL    1            53                          233          579.4       212.000     567.100000  Yes          yes        0.0                          4                       3                        1                    0                   NC     323-8376      1       65   No        Yes     No     0                             Yes                                1              Direct Debit    31              1637           Price            Lack of affordable download/upload speed  0            0.086797       1\n",
       "9998-HXKO    1            2                           11           22.1        0.000       0.000000    No           no         0.0                          0                       7                        1                    0                   NJ     358-1921      1       36   No        No      No     0                             No                                 0              Credit Card     34              69             Competitor       Competitor made better offer              1            0.551728       1\n",
       "Name: count, Length: 1769, dtype: int64"
      ]
     },
     "execution_count": 4,
     "metadata": {},
     "output_type": "execute_result"
    }
   ],
   "source": [
    "dataset.value_counts()"
   ]
  }
 ],
 "metadata": {
  "kernelspec": {
   "display_name": "Python 3",
   "language": "python",
   "name": "python3"
  },
  "language_info": {
   "codemirror_mode": {
    "name": "ipython",
    "version": 3
   },
   "file_extension": ".py",
   "mimetype": "text/x-python",
   "name": "python",
   "nbconvert_exporter": "python",
   "pygments_lexer": "ipython3",
   "version": "3.11.6"
  }
 },
 "nbformat": 4,
 "nbformat_minor": 2
}
